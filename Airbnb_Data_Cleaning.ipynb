{
 "cells": [
  {
   "cell_type": "code",
   "execution_count": 3,
   "id": "648449dc",
   "metadata": {},
   "outputs": [],
   "source": [
    "import pandas as pd\n",
    "import numpy as np\n",
    "import matplotlib.pyplot as plt\n",
    "import seaborn as sns"
   ]
  },
  {
   "cell_type": "code",
   "execution_count": 5,
   "id": "e53e7fe6",
   "metadata": {},
   "outputs": [
    {
     "data": {
      "text/html": [
       "<div>\n",
       "<style scoped>\n",
       "    .dataframe tbody tr th:only-of-type {\n",
       "        vertical-align: middle;\n",
       "    }\n",
       "\n",
       "    .dataframe tbody tr th {\n",
       "        vertical-align: top;\n",
       "    }\n",
       "\n",
       "    .dataframe thead th {\n",
       "        text-align: right;\n",
       "    }\n",
       "</style>\n",
       "<table border=\"1\" class=\"dataframe\">\n",
       "  <thead>\n",
       "    <tr style=\"text-align: right;\">\n",
       "      <th></th>\n",
       "      <th>id</th>\n",
       "      <th>NAME</th>\n",
       "      <th>host id</th>\n",
       "      <th>host_identity_verified</th>\n",
       "      <th>host name</th>\n",
       "      <th>neighbourhood group</th>\n",
       "      <th>neighbourhood</th>\n",
       "      <th>lat</th>\n",
       "      <th>long</th>\n",
       "      <th>country</th>\n",
       "      <th>...</th>\n",
       "      <th>service fee</th>\n",
       "      <th>minimum nights</th>\n",
       "      <th>number of reviews</th>\n",
       "      <th>last review</th>\n",
       "      <th>reviews per month</th>\n",
       "      <th>review rate number</th>\n",
       "      <th>calculated host listings count</th>\n",
       "      <th>availability 365</th>\n",
       "      <th>house_rules</th>\n",
       "      <th>license</th>\n",
       "    </tr>\n",
       "  </thead>\n",
       "  <tbody>\n",
       "    <tr>\n",
       "      <th>0</th>\n",
       "      <td>1001254</td>\n",
       "      <td>Clean &amp; quiet apt home by the park</td>\n",
       "      <td>80014485718</td>\n",
       "      <td>unconfirmed</td>\n",
       "      <td>Madaline</td>\n",
       "      <td>Brooklyn</td>\n",
       "      <td>Kensington</td>\n",
       "      <td>40.64749</td>\n",
       "      <td>-73.97237</td>\n",
       "      <td>United States</td>\n",
       "      <td>...</td>\n",
       "      <td>$193</td>\n",
       "      <td>10.0</td>\n",
       "      <td>9.0</td>\n",
       "      <td>10/19/2021</td>\n",
       "      <td>0.21</td>\n",
       "      <td>4.0</td>\n",
       "      <td>6.0</td>\n",
       "      <td>286.0</td>\n",
       "      <td>Clean up and treat the home the way you'd like...</td>\n",
       "      <td>NaN</td>\n",
       "    </tr>\n",
       "    <tr>\n",
       "      <th>1</th>\n",
       "      <td>1002102</td>\n",
       "      <td>Skylit Midtown Castle</td>\n",
       "      <td>52335172823</td>\n",
       "      <td>verified</td>\n",
       "      <td>Jenna</td>\n",
       "      <td>Manhattan</td>\n",
       "      <td>Midtown</td>\n",
       "      <td>40.75362</td>\n",
       "      <td>-73.98377</td>\n",
       "      <td>United States</td>\n",
       "      <td>...</td>\n",
       "      <td>$28</td>\n",
       "      <td>30.0</td>\n",
       "      <td>45.0</td>\n",
       "      <td>5/21/2022</td>\n",
       "      <td>0.38</td>\n",
       "      <td>4.0</td>\n",
       "      <td>2.0</td>\n",
       "      <td>228.0</td>\n",
       "      <td>Pet friendly but please confirm with me if the...</td>\n",
       "      <td>NaN</td>\n",
       "    </tr>\n",
       "    <tr>\n",
       "      <th>2</th>\n",
       "      <td>1002403</td>\n",
       "      <td>THE VILLAGE OF HARLEM....NEW YORK !</td>\n",
       "      <td>78829239556</td>\n",
       "      <td>NaN</td>\n",
       "      <td>Elise</td>\n",
       "      <td>Manhattan</td>\n",
       "      <td>Harlem</td>\n",
       "      <td>40.80902</td>\n",
       "      <td>-73.94190</td>\n",
       "      <td>United States</td>\n",
       "      <td>...</td>\n",
       "      <td>$124</td>\n",
       "      <td>3.0</td>\n",
       "      <td>0.0</td>\n",
       "      <td>NaN</td>\n",
       "      <td>NaN</td>\n",
       "      <td>5.0</td>\n",
       "      <td>1.0</td>\n",
       "      <td>352.0</td>\n",
       "      <td>I encourage you to use my kitchen, cooking and...</td>\n",
       "      <td>NaN</td>\n",
       "    </tr>\n",
       "  </tbody>\n",
       "</table>\n",
       "<p>3 rows × 26 columns</p>\n",
       "</div>"
      ],
      "text/plain": [
       "        id                                 NAME      host id  \\\n",
       "0  1001254   Clean & quiet apt home by the park  80014485718   \n",
       "1  1002102                Skylit Midtown Castle  52335172823   \n",
       "2  1002403  THE VILLAGE OF HARLEM....NEW YORK !  78829239556   \n",
       "\n",
       "  host_identity_verified host name neighbourhood group neighbourhood  \\\n",
       "0            unconfirmed  Madaline            Brooklyn    Kensington   \n",
       "1               verified     Jenna           Manhattan       Midtown   \n",
       "2                    NaN     Elise           Manhattan        Harlem   \n",
       "\n",
       "        lat      long        country  ... service fee minimum nights  \\\n",
       "0  40.64749 -73.97237  United States  ...       $193            10.0   \n",
       "1  40.75362 -73.98377  United States  ...        $28            30.0   \n",
       "2  40.80902 -73.94190  United States  ...       $124             3.0   \n",
       "\n",
       "  number of reviews last review  reviews per month review rate number  \\\n",
       "0               9.0  10/19/2021               0.21                4.0   \n",
       "1              45.0   5/21/2022               0.38                4.0   \n",
       "2               0.0         NaN                NaN                5.0   \n",
       "\n",
       "  calculated host listings count  availability 365  \\\n",
       "0                            6.0             286.0   \n",
       "1                            2.0             228.0   \n",
       "2                            1.0             352.0   \n",
       "\n",
       "                                         house_rules license  \n",
       "0  Clean up and treat the home the way you'd like...     NaN  \n",
       "1  Pet friendly but please confirm with me if the...     NaN  \n",
       "2  I encourage you to use my kitchen, cooking and...     NaN  \n",
       "\n",
       "[3 rows x 26 columns]"
      ]
     },
     "execution_count": 5,
     "metadata": {},
     "output_type": "execute_result"
    }
   ],
   "source": [
    "df = pd.read_csv('F:/Рабочий стол/Airbnb_Project/Airbnb_Open_Data.csv', low_memory = False)\n",
    "df.head(3)"
   ]
  },
  {
   "cell_type": "code",
   "execution_count": 6,
   "id": "424f9a02",
   "metadata": {},
   "outputs": [
    {
     "data": {
      "text/plain": [
       "(102599, 26)"
      ]
     },
     "execution_count": 6,
     "metadata": {},
     "output_type": "execute_result"
    }
   ],
   "source": [
    "df.shape"
   ]
  },
  {
   "cell_type": "markdown",
   "id": "b51e6d60",
   "metadata": {},
   "source": [
    "### Обработка "
   ]
  },
  {
   "cell_type": "code",
   "execution_count": 7,
   "id": "98738d40",
   "metadata": {},
   "outputs": [
    {
     "data": {
      "text/plain": [
       "Index(['id', 'NAME', 'host id', 'host_identity_verified', 'host name',\n",
       "       'neighbourhood group', 'neighbourhood', 'lat', 'long', 'country',\n",
       "       'country code', 'instant_bookable', 'cancellation_policy', 'room type',\n",
       "       'Construction year', 'price', 'service fee', 'minimum nights',\n",
       "       'number of reviews', 'last review', 'reviews per month',\n",
       "       'review rate number', 'calculated host listings count',\n",
       "       'availability 365', 'house_rules', 'license'],\n",
       "      dtype='object')"
      ]
     },
     "execution_count": 7,
     "metadata": {},
     "output_type": "execute_result"
    }
   ],
   "source": [
    "df.columns"
   ]
  },
  {
   "cell_type": "code",
   "execution_count": 8,
   "id": "278a9c34",
   "metadata": {},
   "outputs": [
    {
     "data": {
      "text/plain": [
       "Index(['id', 'name', 'host_id', 'host_identity_verified', 'host_name',\n",
       "       'neighbourhood_group', 'neighbourhood', 'lat', 'long', 'country',\n",
       "       'country_code', 'instant_bookable', 'cancellation_policy', 'room_type',\n",
       "       'construction_year', 'price', 'service_fee', 'minimum_nights',\n",
       "       'number_of_reviews', 'last_review', 'reviews_per_month',\n",
       "       'review_rate_number', 'calculated_host_listings_count',\n",
       "       'availability_365', 'house_rules', 'license'],\n",
       "      dtype='object')"
      ]
     },
     "execution_count": 8,
     "metadata": {},
     "output_type": "execute_result"
    }
   ],
   "source": [
    "df.columns = df.columns.str.strip().str.lower().str.replace(' ', '_')\n",
    "df.columns"
   ]
  },
  {
   "cell_type": "code",
   "execution_count": 15,
   "id": "97e7e2a9",
   "metadata": {},
   "outputs": [
    {
     "name": "stdout",
     "output_type": "stream",
     "text": [
      "<class 'pandas.core.frame.DataFrame'>\n",
      "RangeIndex: 102599 entries, 0 to 102598\n",
      "Data columns (total 26 columns):\n",
      " #   Column                          Non-Null Count   Dtype  \n",
      "---  ------                          --------------   -----  \n",
      " 0   id                              102599 non-null  int64  \n",
      " 1   name                            102349 non-null  object \n",
      " 2   host_id                         102599 non-null  int64  \n",
      " 3   host_identity_verified          102310 non-null  object \n",
      " 4   host_name                       102193 non-null  object \n",
      " 5   neighbourhood_group             102570 non-null  object \n",
      " 6   neighbourhood                   102583 non-null  object \n",
      " 7   lat                             102591 non-null  float64\n",
      " 8   long                            102591 non-null  float64\n",
      " 9   country                         102067 non-null  object \n",
      " 10  country_code                    102468 non-null  object \n",
      " 11  instant_bookable                102494 non-null  boolean\n",
      " 12  cancellation_policy             102523 non-null  object \n",
      " 13  room_type                       102599 non-null  object \n",
      " 14  construction_year               102385 non-null  Int64  \n",
      " 15  price                           102352 non-null  object \n",
      " 16  service_fee                     102326 non-null  object \n",
      " 17  minimum_nights                  102190 non-null  Int64  \n",
      " 18  number_of_reviews               102416 non-null  Int64  \n",
      " 19  last_review                     86706 non-null   object \n",
      " 20  reviews_per_month               86720 non-null   float64\n",
      " 21  review_rate_number              102273 non-null  Int64  \n",
      " 22  calculated_host_listings_count  102280 non-null  Int64  \n",
      " 23  availability_365                102151 non-null  Int64  \n",
      " 24  house_rules                     50468 non-null   object \n",
      " 25  license                         2 non-null       object \n",
      "dtypes: Int64(6), boolean(1), float64(3), int64(2), object(14)\n",
      "memory usage: 20.4+ MB\n"
     ]
    }
   ],
   "source": [
    "df.info()"
   ]
  },
  {
   "cell_type": "code",
   "execution_count": 10,
   "id": "5af38e20",
   "metadata": {},
   "outputs": [
    {
     "data": {
      "text/html": [
       "<div>\n",
       "<style scoped>\n",
       "    .dataframe tbody tr th:only-of-type {\n",
       "        vertical-align: middle;\n",
       "    }\n",
       "\n",
       "    .dataframe tbody tr th {\n",
       "        vertical-align: top;\n",
       "    }\n",
       "\n",
       "    .dataframe thead th {\n",
       "        text-align: right;\n",
       "    }\n",
       "</style>\n",
       "<table border=\"1\" class=\"dataframe\">\n",
       "  <thead>\n",
       "    <tr style=\"text-align: right;\">\n",
       "      <th></th>\n",
       "      <th>id</th>\n",
       "      <th>name</th>\n",
       "      <th>host_id</th>\n",
       "      <th>host_identity_verified</th>\n",
       "      <th>host_name</th>\n",
       "      <th>neighbourhood_group</th>\n",
       "      <th>neighbourhood</th>\n",
       "      <th>lat</th>\n",
       "      <th>long</th>\n",
       "      <th>country</th>\n",
       "      <th>country_code</th>\n",
       "      <th>instant_bookable</th>\n",
       "      <th>cancellation_policy</th>\n",
       "      <th>room_type</th>\n",
       "      <th>construction_year</th>\n",
       "      <th>price</th>\n",
       "      <th>service_fee</th>\n",
       "      <th>minimum_nights</th>\n",
       "      <th>number_of_reviews</th>\n",
       "      <th>last_review</th>\n",
       "      <th>reviews_per_month</th>\n",
       "      <th>review_rate_number</th>\n",
       "      <th>calculated_host_listings_count</th>\n",
       "      <th>availability_365</th>\n",
       "      <th>house_rules</th>\n",
       "      <th>license</th>\n",
       "    </tr>\n",
       "  </thead>\n",
       "  <tbody>\n",
       "    <tr>\n",
       "      <th>0</th>\n",
       "      <td>1001254</td>\n",
       "      <td>Clean &amp; quiet apt home by the park</td>\n",
       "      <td>80014485718</td>\n",
       "      <td>unconfirmed</td>\n",
       "      <td>Madaline</td>\n",
       "      <td>Brooklyn</td>\n",
       "      <td>Kensington</td>\n",
       "      <td>40.64749</td>\n",
       "      <td>-73.97237</td>\n",
       "      <td>United States</td>\n",
       "      <td>US</td>\n",
       "      <td>False</td>\n",
       "      <td>strict</td>\n",
       "      <td>Private room</td>\n",
       "      <td>2020.0</td>\n",
       "      <td>$966</td>\n",
       "      <td>$193</td>\n",
       "      <td>10.0</td>\n",
       "      <td>9.0</td>\n",
       "      <td>10/19/2021</td>\n",
       "      <td>0.21</td>\n",
       "      <td>4.0</td>\n",
       "      <td>6.0</td>\n",
       "      <td>286.0</td>\n",
       "      <td>Clean up and treat the home the way you'd like...</td>\n",
       "      <td>NaN</td>\n",
       "    </tr>\n",
       "    <tr>\n",
       "      <th>1</th>\n",
       "      <td>1002102</td>\n",
       "      <td>Skylit Midtown Castle</td>\n",
       "      <td>52335172823</td>\n",
       "      <td>verified</td>\n",
       "      <td>Jenna</td>\n",
       "      <td>Manhattan</td>\n",
       "      <td>Midtown</td>\n",
       "      <td>40.75362</td>\n",
       "      <td>-73.98377</td>\n",
       "      <td>United States</td>\n",
       "      <td>US</td>\n",
       "      <td>False</td>\n",
       "      <td>moderate</td>\n",
       "      <td>Entire home/apt</td>\n",
       "      <td>2007.0</td>\n",
       "      <td>$142</td>\n",
       "      <td>$28</td>\n",
       "      <td>30.0</td>\n",
       "      <td>45.0</td>\n",
       "      <td>5/21/2022</td>\n",
       "      <td>0.38</td>\n",
       "      <td>4.0</td>\n",
       "      <td>2.0</td>\n",
       "      <td>228.0</td>\n",
       "      <td>Pet friendly but please confirm with me if the...</td>\n",
       "      <td>NaN</td>\n",
       "    </tr>\n",
       "    <tr>\n",
       "      <th>2</th>\n",
       "      <td>1002403</td>\n",
       "      <td>THE VILLAGE OF HARLEM....NEW YORK !</td>\n",
       "      <td>78829239556</td>\n",
       "      <td>NaN</td>\n",
       "      <td>Elise</td>\n",
       "      <td>Manhattan</td>\n",
       "      <td>Harlem</td>\n",
       "      <td>40.80902</td>\n",
       "      <td>-73.94190</td>\n",
       "      <td>United States</td>\n",
       "      <td>US</td>\n",
       "      <td>True</td>\n",
       "      <td>flexible</td>\n",
       "      <td>Private room</td>\n",
       "      <td>2005.0</td>\n",
       "      <td>$620</td>\n",
       "      <td>$124</td>\n",
       "      <td>3.0</td>\n",
       "      <td>0.0</td>\n",
       "      <td>NaN</td>\n",
       "      <td>NaN</td>\n",
       "      <td>5.0</td>\n",
       "      <td>1.0</td>\n",
       "      <td>352.0</td>\n",
       "      <td>I encourage you to use my kitchen, cooking and...</td>\n",
       "      <td>NaN</td>\n",
       "    </tr>\n",
       "  </tbody>\n",
       "</table>\n",
       "</div>"
      ],
      "text/plain": [
       "        id                                 name      host_id  \\\n",
       "0  1001254   Clean & quiet apt home by the park  80014485718   \n",
       "1  1002102                Skylit Midtown Castle  52335172823   \n",
       "2  1002403  THE VILLAGE OF HARLEM....NEW YORK !  78829239556   \n",
       "\n",
       "  host_identity_verified host_name neighbourhood_group neighbourhood  \\\n",
       "0            unconfirmed  Madaline            Brooklyn    Kensington   \n",
       "1               verified     Jenna           Manhattan       Midtown   \n",
       "2                    NaN     Elise           Manhattan        Harlem   \n",
       "\n",
       "        lat      long        country country_code instant_bookable  \\\n",
       "0  40.64749 -73.97237  United States           US            False   \n",
       "1  40.75362 -73.98377  United States           US            False   \n",
       "2  40.80902 -73.94190  United States           US             True   \n",
       "\n",
       "  cancellation_policy        room_type  construction_year  price service_fee  \\\n",
       "0              strict     Private room             2020.0  $966        $193    \n",
       "1            moderate  Entire home/apt             2007.0  $142         $28    \n",
       "2            flexible     Private room             2005.0  $620        $124    \n",
       "\n",
       "   minimum_nights  number_of_reviews last_review  reviews_per_month  \\\n",
       "0            10.0                9.0  10/19/2021               0.21   \n",
       "1            30.0               45.0   5/21/2022               0.38   \n",
       "2             3.0                0.0         NaN                NaN   \n",
       "\n",
       "   review_rate_number  calculated_host_listings_count  availability_365  \\\n",
       "0                 4.0                             6.0             286.0   \n",
       "1                 4.0                             2.0             228.0   \n",
       "2                 5.0                             1.0             352.0   \n",
       "\n",
       "                                         house_rules license  \n",
       "0  Clean up and treat the home the way you'd like...     NaN  \n",
       "1  Pet friendly but please confirm with me if the...     NaN  \n",
       "2  I encourage you to use my kitchen, cooking and...     NaN  "
      ]
     },
     "execution_count": 10,
     "metadata": {},
     "output_type": "execute_result"
    }
   ],
   "source": [
    "pd.set_option('display.max_columns', None)\n",
    "df.head(3)"
   ]
  },
  {
   "cell_type": "markdown",
   "id": "bfe0e285",
   "metadata": {},
   "source": [
    "### Конвертируем instant_bookable в boolean"
   ]
  },
  {
   "cell_type": "code",
   "execution_count": 11,
   "id": "33d4da1d",
   "metadata": {},
   "outputs": [],
   "source": [
    "df['instant_bookable'] = df['instant_bookable'].astype('boolean')"
   ]
  },
  {
   "cell_type": "markdown",
   "id": "6fdb5e98",
   "metadata": {},
   "source": [
    "### Конвертация в Int64"
   ]
  },
  {
   "cell_type": "code",
   "execution_count": 12,
   "id": "b5fee5d1",
   "metadata": {},
   "outputs": [],
   "source": [
    "to_int = ['construction_year', 'minimum_nights', 'number_of_reviews', 'calculated_host_listings_count',\n",
    "         'review_rate_number', 'availability_365']\n",
    "\n",
    "for column in to_int:\n",
    "    df[column] = df[column].astype('Int64')"
   ]
  },
  {
   "cell_type": "markdown",
   "id": "96d622d1",
   "metadata": {},
   "source": [
    "### Уберем знак доллара и запятые"
   ]
  },
  {
   "cell_type": "code",
   "execution_count": 17,
   "id": "583676d6",
   "metadata": {},
   "outputs": [],
   "source": [
    "df.price = df.price.str.strip('$').str.strip().str.replace(',','').astype('float64')\n",
    "df.service_fee = df.service_fee.str.strip('$').str.strip().str.replace(',','').astype('float64')"
   ]
  },
  {
   "cell_type": "markdown",
   "id": "2ed899cc",
   "metadata": {},
   "source": [
    "### Конвертируем last_review в формат datetime"
   ]
  },
  {
   "cell_type": "code",
   "execution_count": 18,
   "id": "3d4f617d",
   "metadata": {},
   "outputs": [],
   "source": [
    "df['last_review'] = pd.to_datetime(df.last_review, format = '%m/%d/%Y', errors = 'raise')"
   ]
  },
  {
   "cell_type": "code",
   "execution_count": 20,
   "id": "3abc008b",
   "metadata": {},
   "outputs": [
    {
     "name": "stdout",
     "output_type": "stream",
     "text": [
      "<class 'pandas.core.frame.DataFrame'>\n",
      "RangeIndex: 102599 entries, 0 to 102598\n",
      "Data columns (total 26 columns):\n",
      " #   Column                          Non-Null Count   Dtype         \n",
      "---  ------                          --------------   -----         \n",
      " 0   id                              102599 non-null  int64         \n",
      " 1   name                            102349 non-null  object        \n",
      " 2   host_id                         102599 non-null  int64         \n",
      " 3   host_identity_verified          102310 non-null  object        \n",
      " 4   host_name                       102193 non-null  object        \n",
      " 5   neighbourhood_group             102570 non-null  object        \n",
      " 6   neighbourhood                   102583 non-null  object        \n",
      " 7   lat                             102591 non-null  float64       \n",
      " 8   long                            102591 non-null  float64       \n",
      " 9   country                         102067 non-null  object        \n",
      " 10  country_code                    102468 non-null  object        \n",
      " 11  instant_bookable                102494 non-null  boolean       \n",
      " 12  cancellation_policy             102523 non-null  object        \n",
      " 13  room_type                       102599 non-null  object        \n",
      " 14  construction_year               102385 non-null  Int64         \n",
      " 15  price                           102352 non-null  float64       \n",
      " 16  service_fee                     102326 non-null  float64       \n",
      " 17  minimum_nights                  102190 non-null  Int64         \n",
      " 18  number_of_reviews               102416 non-null  Int64         \n",
      " 19  last_review                     86706 non-null   datetime64[ns]\n",
      " 20  reviews_per_month               86720 non-null   float64       \n",
      " 21  review_rate_number              102273 non-null  Int64         \n",
      " 22  calculated_host_listings_count  102280 non-null  Int64         \n",
      " 23  availability_365                102151 non-null  Int64         \n",
      " 24  house_rules                     50468 non-null   object        \n",
      " 25  license                         2 non-null       object        \n",
      "dtypes: Int64(6), boolean(1), datetime64[ns](1), float64(5), int64(2), object(11)\n",
      "memory usage: 20.4+ MB\n"
     ]
    }
   ],
   "source": [
    "df.info()"
   ]
  },
  {
   "cell_type": "markdown",
   "id": "2245ac09",
   "metadata": {},
   "source": [
    "### Проверим на дубликаты и удалим их"
   ]
  },
  {
   "cell_type": "code",
   "execution_count": 22,
   "id": "9ca8ee14",
   "metadata": {},
   "outputs": [
    {
     "data": {
      "text/plain": [
       "541"
      ]
     },
     "execution_count": 22,
     "metadata": {},
     "output_type": "execute_result"
    }
   ],
   "source": [
    "df.duplicated().sum()"
   ]
  },
  {
   "cell_type": "code",
   "execution_count": 23,
   "id": "cb171eb2",
   "metadata": {},
   "outputs": [],
   "source": [
    "df = df.drop_duplicates()"
   ]
  },
  {
   "cell_type": "code",
   "execution_count": 24,
   "id": "96d35e0d",
   "metadata": {
    "scrolled": true
   },
   "outputs": [
    {
     "data": {
      "text/html": [
       "<div>\n",
       "<style scoped>\n",
       "    .dataframe tbody tr th:only-of-type {\n",
       "        vertical-align: middle;\n",
       "    }\n",
       "\n",
       "    .dataframe tbody tr th {\n",
       "        vertical-align: top;\n",
       "    }\n",
       "\n",
       "    .dataframe thead th {\n",
       "        text-align: right;\n",
       "    }\n",
       "</style>\n",
       "<table border=\"1\" class=\"dataframe\">\n",
       "  <thead>\n",
       "    <tr style=\"text-align: right;\">\n",
       "      <th></th>\n",
       "      <th>id</th>\n",
       "      <th>host_id</th>\n",
       "      <th>lat</th>\n",
       "      <th>long</th>\n",
       "      <th>construction_year</th>\n",
       "      <th>price</th>\n",
       "      <th>service_fee</th>\n",
       "      <th>minimum_nights</th>\n",
       "      <th>number_of_reviews</th>\n",
       "      <th>reviews_per_month</th>\n",
       "      <th>review_rate_number</th>\n",
       "      <th>calculated_host_listings_count</th>\n",
       "      <th>availability_365</th>\n",
       "    </tr>\n",
       "  </thead>\n",
       "  <tbody>\n",
       "    <tr>\n",
       "      <th>count</th>\n",
       "      <td>1.020580e+05</td>\n",
       "      <td>1.020580e+05</td>\n",
       "      <td>102050.000000</td>\n",
       "      <td>102050.000000</td>\n",
       "      <td>101844.0</td>\n",
       "      <td>101811.000000</td>\n",
       "      <td>101785.000000</td>\n",
       "      <td>101658.0</td>\n",
       "      <td>101875.0</td>\n",
       "      <td>86240.000000</td>\n",
       "      <td>101739.0</td>\n",
       "      <td>101739.0</td>\n",
       "      <td>101610.0</td>\n",
       "    </tr>\n",
       "    <tr>\n",
       "      <th>mean</th>\n",
       "      <td>2.918438e+07</td>\n",
       "      <td>4.926738e+10</td>\n",
       "      <td>40.728097</td>\n",
       "      <td>-73.949652</td>\n",
       "      <td>2012.48809</td>\n",
       "      <td>625.355580</td>\n",
       "      <td>125.039249</td>\n",
       "      <td>8.12664</td>\n",
       "      <td>27.517948</td>\n",
       "      <td>1.375408</td>\n",
       "      <td>3.278733</td>\n",
       "      <td>7.936937</td>\n",
       "      <td>141.043992</td>\n",
       "    </tr>\n",
       "    <tr>\n",
       "      <th>std</th>\n",
       "      <td>1.627173e+07</td>\n",
       "      <td>2.853742e+10</td>\n",
       "      <td>0.055852</td>\n",
       "      <td>0.049502</td>\n",
       "      <td>5.765838</td>\n",
       "      <td>331.672649</td>\n",
       "      <td>66.325905</td>\n",
       "      <td>30.616698</td>\n",
       "      <td>49.571744</td>\n",
       "      <td>1.748019</td>\n",
       "      <td>1.285089</td>\n",
       "      <td>32.266355</td>\n",
       "      <td>135.429156</td>\n",
       "    </tr>\n",
       "    <tr>\n",
       "      <th>min</th>\n",
       "      <td>1.001254e+06</td>\n",
       "      <td>1.236005e+08</td>\n",
       "      <td>40.499790</td>\n",
       "      <td>-74.249840</td>\n",
       "      <td>2003.0</td>\n",
       "      <td>50.000000</td>\n",
       "      <td>10.000000</td>\n",
       "      <td>-1223.0</td>\n",
       "      <td>0.0</td>\n",
       "      <td>0.010000</td>\n",
       "      <td>1.0</td>\n",
       "      <td>1.0</td>\n",
       "      <td>-10.0</td>\n",
       "    </tr>\n",
       "    <tr>\n",
       "      <th>25%</th>\n",
       "      <td>1.509286e+07</td>\n",
       "      <td>2.459924e+10</td>\n",
       "      <td>40.688730</td>\n",
       "      <td>-73.982580</td>\n",
       "      <td>2007.0</td>\n",
       "      <td>340.000000</td>\n",
       "      <td>68.000000</td>\n",
       "      <td>2.0</td>\n",
       "      <td>1.0</td>\n",
       "      <td>0.220000</td>\n",
       "      <td>2.0</td>\n",
       "      <td>1.0</td>\n",
       "      <td>3.0</td>\n",
       "    </tr>\n",
       "    <tr>\n",
       "      <th>50%</th>\n",
       "      <td>2.918438e+07</td>\n",
       "      <td>4.912865e+10</td>\n",
       "      <td>40.722290</td>\n",
       "      <td>-73.954440</td>\n",
       "      <td>2012.0</td>\n",
       "      <td>625.000000</td>\n",
       "      <td>125.000000</td>\n",
       "      <td>3.0</td>\n",
       "      <td>7.0</td>\n",
       "      <td>0.740000</td>\n",
       "      <td>3.0</td>\n",
       "      <td>1.0</td>\n",
       "      <td>96.0</td>\n",
       "    </tr>\n",
       "    <tr>\n",
       "      <th>75%</th>\n",
       "      <td>4.327590e+07</td>\n",
       "      <td>7.400619e+10</td>\n",
       "      <td>40.762760</td>\n",
       "      <td>-73.932350</td>\n",
       "      <td>2017.0</td>\n",
       "      <td>913.000000</td>\n",
       "      <td>183.000000</td>\n",
       "      <td>5.0</td>\n",
       "      <td>31.0</td>\n",
       "      <td>2.010000</td>\n",
       "      <td>4.0</td>\n",
       "      <td>2.0</td>\n",
       "      <td>268.0</td>\n",
       "    </tr>\n",
       "    <tr>\n",
       "      <th>max</th>\n",
       "      <td>5.736742e+07</td>\n",
       "      <td>9.876313e+10</td>\n",
       "      <td>40.916970</td>\n",
       "      <td>-73.705220</td>\n",
       "      <td>2022.0</td>\n",
       "      <td>1200.000000</td>\n",
       "      <td>240.000000</td>\n",
       "      <td>5645.0</td>\n",
       "      <td>1024.0</td>\n",
       "      <td>90.000000</td>\n",
       "      <td>5.0</td>\n",
       "      <td>332.0</td>\n",
       "      <td>3677.0</td>\n",
       "    </tr>\n",
       "  </tbody>\n",
       "</table>\n",
       "</div>"
      ],
      "text/plain": [
       "                 id       host_id            lat           long  \\\n",
       "count  1.020580e+05  1.020580e+05  102050.000000  102050.000000   \n",
       "mean   2.918438e+07  4.926738e+10      40.728097     -73.949652   \n",
       "std    1.627173e+07  2.853742e+10       0.055852       0.049502   \n",
       "min    1.001254e+06  1.236005e+08      40.499790     -74.249840   \n",
       "25%    1.509286e+07  2.459924e+10      40.688730     -73.982580   \n",
       "50%    2.918438e+07  4.912865e+10      40.722290     -73.954440   \n",
       "75%    4.327590e+07  7.400619e+10      40.762760     -73.932350   \n",
       "max    5.736742e+07  9.876313e+10      40.916970     -73.705220   \n",
       "\n",
       "       construction_year          price    service_fee  minimum_nights  \\\n",
       "count           101844.0  101811.000000  101785.000000        101658.0   \n",
       "mean          2012.48809     625.355580     125.039249         8.12664   \n",
       "std             5.765838     331.672649      66.325905       30.616698   \n",
       "min               2003.0      50.000000      10.000000         -1223.0   \n",
       "25%               2007.0     340.000000      68.000000             2.0   \n",
       "50%               2012.0     625.000000     125.000000             3.0   \n",
       "75%               2017.0     913.000000     183.000000             5.0   \n",
       "max               2022.0    1200.000000     240.000000          5645.0   \n",
       "\n",
       "       number_of_reviews  reviews_per_month  review_rate_number  \\\n",
       "count           101875.0       86240.000000            101739.0   \n",
       "mean           27.517948           1.375408            3.278733   \n",
       "std            49.571744           1.748019            1.285089   \n",
       "min                  0.0           0.010000                 1.0   \n",
       "25%                  1.0           0.220000                 2.0   \n",
       "50%                  7.0           0.740000                 3.0   \n",
       "75%                 31.0           2.010000                 4.0   \n",
       "max               1024.0          90.000000                 5.0   \n",
       "\n",
       "       calculated_host_listings_count  availability_365  \n",
       "count                        101739.0          101610.0  \n",
       "mean                         7.936937        141.043992  \n",
       "std                         32.266355        135.429156  \n",
       "min                               1.0             -10.0  \n",
       "25%                               1.0               3.0  \n",
       "50%                               1.0              96.0  \n",
       "75%                               2.0             268.0  \n",
       "max                             332.0            3677.0  "
      ]
     },
     "execution_count": 24,
     "metadata": {},
     "output_type": "execute_result"
    }
   ],
   "source": [
    "df.describe()"
   ]
  },
  {
   "cell_type": "markdown",
   "id": "5bbed366",
   "metadata": {},
   "source": [
    "### Проверим на выбросы minimum_nights и availability_365"
   ]
  },
  {
   "cell_type": "code",
   "execution_count": 25,
   "id": "6226a5e1",
   "metadata": {
    "scrolled": true
   },
   "outputs": [
    {
     "data": {
      "image/png": "[encoded data removed]",
      "text/plain": [
       "<Figure size 1500x500 with 2 Axes>"
      ]
     },
     "metadata": {},
     "output_type": "display_data"
    }
   ],
   "source": [
    "fig, ax = plt.subplots(1,2, figsize = (15,5))\n",
    "\n",
    "ax[0].set_title('Боксплот по минимуму ночей');\n",
    "sns.boxplot(x = df['minimum_nights'], ax = ax[0]);\n",
    "\n",
    "ax[1].set_title('Боксплот по доступности 365');\n",
    "sns.boxplot(x = df['availability_365'], ax = ax[1]);"
   ]
  },
  {
   "cell_type": "markdown",
   "id": "46f32ed7",
   "metadata": {},
   "source": [
    "###### Минимальное количество ночей проживания не может быть отрицательным, а доступность в течение одного года не может превышать 366 дней. Поэтому необходимо удалить эти строки."
   ]
  },
  {
   "cell_type": "code",
   "execution_count": 26,
   "id": "81385255",
   "metadata": {},
   "outputs": [
    {
     "data": {
      "text/plain": [
       "1"
      ]
     },
     "execution_count": 26,
     "metadata": {},
     "output_type": "execute_result"
    }
   ],
   "source": [
    "df = df.drop(df[df.minimum_nights < 1].index)\n",
    "\n",
    "df['minimum_nights'].min()"
   ]
  },
  {
   "cell_type": "code",
   "execution_count": 27,
   "id": "a411784e",
   "metadata": {
    "scrolled": true
   },
   "outputs": [
    {
     "data": {
      "text/plain": [
       "365"
      ]
     },
     "execution_count": 27,
     "metadata": {},
     "output_type": "execute_result"
    }
   ],
   "source": [
    "df = df.drop(df[df.availability_365 > 365].index)\n",
    "\n",
    "df['availability_365'].max()"
   ]
  },
  {
   "cell_type": "markdown",
   "id": "3f75c721",
   "metadata": {},
   "source": [
    "### Проверка категориальных признаков на уникальные значения"
   ]
  },
  {
   "cell_type": "code",
   "execution_count": 29,
   "id": "37d20a9d",
   "metadata": {},
   "outputs": [
    {
     "data": {
      "text/plain": [
       "name                      59677\n",
       "host_identity_verified        2\n",
       "host_name                 12985\n",
       "neighbourhood_group           7\n",
       "neighbourhood               224\n",
       "country                       1\n",
       "country_code                  1\n",
       "cancellation_policy           3\n",
       "room_type                     4\n",
       "house_rules                1970\n",
       "license                       1\n",
       "dtype: int64"
      ]
     },
     "execution_count": 29,
     "metadata": {},
     "output_type": "execute_result"
    }
   ],
   "source": [
    "cat_features = df.select_dtypes(include = 'object')\n",
    "cat_features.nunique()"
   ]
  },
  {
   "cell_type": "code",
   "execution_count": 33,
   "id": "eeb4fefc",
   "metadata": {},
   "outputs": [
    {
     "name": "stdout",
     "output_type": "stream",
     "text": [
      "host_identity_verified имеет уникальные значения ['unconfirmed' 'verified' nan]\n",
      "host_identity_verified имеет уникальные значения ['Brooklyn' 'Manhattan' 'brookln' 'manhatan' 'Queens' nan 'Staten Island'\n",
      " 'Bronx']\n",
      "host_identity_verified имеет уникальные значения ['strict' 'moderate' 'flexible' nan]\n",
      "host_identity_verified имеет уникальные значения ['Private room' 'Entire home/apt' 'Shared room' 'Hotel room']\n"
     ]
    }
   ],
   "source": [
    "print(f'host_identity_verified имеет уникальные значения {df[\"host_identity_verified\"].unique()}')\n",
    "print(f'host_identity_verified имеет уникальные значения {df[\"neighbourhood_group\"].unique()}')\n",
    "print(f'host_identity_verified имеет уникальные значения {df[\"cancellation_policy\"].unique()}')\n",
    "print(f'host_identity_verified имеет уникальные значения {df[\"room_type\"].unique()}')"
   ]
  },
  {
   "cell_type": "code",
   "execution_count": 35,
   "id": "769d315f",
   "metadata": {},
   "outputs": [],
   "source": [
    "df['neighbourhood_group'] = df['neighbourhood_group'].replace(['brookln','manhatan'], ['Brooklyn', 'Manhattan'])"
   ]
  },
  {
   "cell_type": "markdown",
   "id": "734470bf",
   "metadata": {},
   "source": [
    "### Работа с пропущенными значениями"
   ]
  },
  {
   "cell_type": "code",
   "execution_count": 37,
   "id": "a1b098dd",
   "metadata": {
    "scrolled": false
   },
   "outputs": [
    {
     "data": {
      "text/plain": [
       "id                                  0.00\n",
       "room_type                           0.00\n",
       "host_id                             0.00\n",
       "long                                0.01\n",
       "lat                                 0.01\n",
       "neighbourhood                       0.01\n",
       "neighbourhood_group                 0.03\n",
       "cancellation_policy                 0.06\n",
       "instant_bookable                    0.09\n",
       "country_code                        0.12\n",
       "number_of_reviews                   0.18\n",
       "construction_year                   0.20\n",
       "price                               0.24\n",
       "name                                0.24\n",
       "service_fee                         0.27\n",
       "host_identity_verified              0.28\n",
       "calculated_host_listings_count      0.30\n",
       "review_rate_number                  0.31\n",
       "minimum_nights                      0.39\n",
       "host_name                           0.40\n",
       "availability_365                    0.45\n",
       "country                             0.52\n",
       "reviews_per_month                  15.42\n",
       "last_review                        15.43\n",
       "house_rules                        51.31\n",
       "license                           100.00\n",
       "dtype: float64"
      ]
     },
     "execution_count": 37,
     "metadata": {},
     "output_type": "execute_result"
    }
   ],
   "source": [
    "round(df.isnull().sum()*100/len(df),2).sort_values()"
   ]
  },
  {
   "cell_type": "code",
   "execution_count": 38,
   "id": "1c2013ab",
   "metadata": {},
   "outputs": [],
   "source": [
    "# Столбцы \"license\" и \"house_rules\" содержат более 50% пропущенных значений, \n",
    "# поэтому удалим их.\n",
    "df = df.drop(columns = ['house_rules', 'license'])"
   ]
  },
  {
   "cell_type": "code",
   "execution_count": 39,
   "id": "83b2c10f",
   "metadata": {},
   "outputs": [],
   "source": [
    "# Удалите пропущенные строки для \"lat\" и \"long\", \n",
    "# поскольку они не могут быть пересчитаны\n",
    "df = df[df.lat.notnull()]"
   ]
  },
  {
   "cell_type": "code",
   "execution_count": 43,
   "id": "50d821a3",
   "metadata": {},
   "outputs": [
    {
     "data": {
      "text/plain": [
       "array(['Washington Heights', 'Clinton Hill', 'East Village',\n",
       "       'Upper East Side', 'Woodside', 'Williamsburg', 'Bushwick',\n",
       "       'Prospect Heights', 'Chelsea', 'East Harlem', 'Eastchester',\n",
       "       'Harlem', 'Chinatown', 'Queens Village', 'Bedford-Stuyvesant',\n",
       "       'Upper West Side'], dtype=object)"
      ]
     },
     "execution_count": 43,
     "metadata": {},
     "output_type": "execute_result"
    }
   ],
   "source": [
    "missing_borough = df[df['neighbourhood_group'].isna()]\n",
    "\n",
    "neighbourhood_list = missing_borough['neighbourhood'].unique()\n",
    "neighbourhood_list"
   ]
  },
  {
   "cell_type": "code",
   "execution_count": 45,
   "id": "1c13db17",
   "metadata": {},
   "outputs": [],
   "source": [
    "manhattan_neighbourhoods = ['Washington Heights', 'East Village', 'Upper East Side', 'Chelsea', 'East Harlem']\n",
    "\n",
    "brooklyn_neighbourhoods = ['Clinton Hill', 'Williamsburg', 'Bushwick', 'Prospect Heights', 'Bedford-Stuyvesant']\n",
    "\n",
    "queens_neighbourhoods = ['Woodside', 'Queens Village']\n",
    "\n",
    "bronx_neighbourhoods = ['Eastchester']"
   ]
  },
  {
   "cell_type": "code",
   "execution_count": 46,
   "id": "b2d61a9d",
   "metadata": {},
   "outputs": [],
   "source": [
    "#Создает функцию для замены пропущенных значений для района \n",
    "# в соответствии с окрестностями\n",
    "def name_borough(list_neighbourhoods, borough):\n",
    "    for i in list_neighbourhoods:\n",
    "        df['neighbourhood_group'] = np.where((df['neighbourhood'] == i), \n",
    "                                             borough, df['neighbourhood_group'])"
   ]
  },
  {
   "cell_type": "code",
   "execution_count": 47,
   "id": "9ac620df",
   "metadata": {},
   "outputs": [],
   "source": [
    "name_borough(manhattan_neighbourhoods, 'Manhattan')\n",
    "name_borough(manhattan_neighbourhoods, 'Brooklyn')\n",
    "name_borough(manhattan_neighbourhoods, 'Queens')\n",
    "name_borough(manhattan_neighbourhoods, 'Bronx')"
   ]
  },
  {
   "cell_type": "code",
   "execution_count": 48,
   "id": "d1be7fb5",
   "metadata": {},
   "outputs": [
    {
     "data": {
      "text/plain": [
       "United States    98764\n",
       "NaN                520\n",
       "Name: country, dtype: int64"
      ]
     },
     "execution_count": 48,
     "metadata": {},
     "output_type": "execute_result"
    }
   ],
   "source": [
    "df['country'].value_counts(dropna=False)"
   ]
  },
  {
   "cell_type": "code",
   "execution_count": 49,
   "id": "5f28f6d4",
   "metadata": {
    "scrolled": true
   },
   "outputs": [
    {
     "data": {
      "text/plain": [
       "US     99169\n",
       "NaN      115\n",
       "Name: country_code, dtype: int64"
      ]
     },
     "execution_count": 49,
     "metadata": {},
     "output_type": "execute_result"
    }
   ],
   "source": [
    "df['country_code'].value_counts(dropna=False)"
   ]
  },
  {
   "cell_type": "code",
   "execution_count": 50,
   "id": "f89b212a",
   "metadata": {},
   "outputs": [],
   "source": [
    "#Набор данных взят из AirBnB в Нью-Йорке, поэтому я предполагаю, \n",
    "#что все записи относятся к США\n",
    "values = {'country': 'United States', 'country_code': 'US'}\n",
    "df = df.fillna(value = values)"
   ]
  },
  {
   "cell_type": "code",
   "execution_count": 51,
   "id": "6b615896",
   "metadata": {
    "scrolled": true
   },
   "outputs": [
    {
     "data": {
      "image/png": "[encoded data removed]",
      "text/plain": [
       "<Figure size 1500x500 with 3 Axes>"
      ]
     },
     "metadata": {},
     "output_type": "display_data"
    }
   ],
   "source": [
    "fig, ax = plt.subplots(1,3, figsize = (15,5), sharex = False, sharey = True)\n",
    "\n",
    "ax[0].set_title('Год постройки по районам');\n",
    "sns.boxplot(data = df, y ='neighbourhood_group', x = 'construction_year', ax = ax[0]);\n",
    "ax[0].set(xlabel = 'Год постройки', ylabel = 'Район');\n",
    "\n",
    "ax[1].set_title('Цена по районам');\n",
    "sns.boxplot(data = df, y ='neighbourhood_group', x = 'price', ax = ax[1]);\n",
    "ax[1].set(xlabel = 'Цена', ylabel = 'Район');\n",
    "\n",
    "ax[2].set_title('Плата за обслуживание по районам');\n",
    "sns.boxplot(data = df, y ='neighbourhood_group', x = 'service_fee', ax = ax[2]);\n",
    "ax[2].set(xlabel = 'Плата', ylabel = 'Район');"
   ]
  },
  {
   "cell_type": "markdown",
   "id": "fb58f89a",
   "metadata": {},
   "source": [
    "### Я бы не рекомендовал заполнять пропущенные значения для приведенных выше категорий средним значением, так как значения очень разбросаны."
   ]
  },
  {
   "cell_type": "code",
   "execution_count": 62,
   "id": "50ff5208",
   "metadata": {},
   "outputs": [
    {
     "name": "stderr",
     "output_type": "stream",
     "text": [
      "C:\\Users\\user\\AppData\\Local\\Temp\\ipykernel_3940\\3664238783.py:1: FutureWarning: The default value of numeric_only in DataFrame.corr is deprecated. In a future version, it will default to False. Select only valid columns or specify the value of numeric_only to silence this warning.\n",
      "  corr = df.corr()\n"
     ]
    },
    {
     "data": {
      "image/png": "[encoded data removed]",
      "text/plain": [
       "<Figure size 1100x900 with 2 Axes>"
      ]
     },
     "metadata": {},
     "output_type": "display_data"
    }
   ],
   "source": [
    "# Вычислить корреляционную матрицу\n",
    "corr = df.corr()\n",
    "\n",
    "# Сгенерировать маску для верхнего треугольника\n",
    "mask = np.triu(np.ones_like(corr, dtype = bool))\n",
    "\n",
    "# Настройка фигуры matplotlib\n",
    "f, ax = plt.subplots(figsize = (11, 9))\n",
    "\n",
    "# Сгенерировать цветовую карту\n",
    "cmap = sns.diverging_palette(230, 20, as_cmap = True)\n",
    "\n",
    "# Визуализация тепловой карты с маской и правильным соотношением сторон\n",
    "sns.heatmap(corr, mask = mask, cmap = cmap, vmax = .3, center = 0, square = True,\n",
    "           linewidths = .5, cbar_kws = {'shrink': .5});"
   ]
  },
  {
   "cell_type": "code",
   "execution_count": 63,
   "id": "b49df29c",
   "metadata": {},
   "outputs": [
    {
     "data": {
      "text/plain": [
       "<Axes: xlabel='price', ylabel='service_fee'>"
      ]
     },
     "execution_count": 63,
     "metadata": {},
     "output_type": "execute_result"
    },
    {
     "data": {
      "image/png": "[encoded data removed]",
      "text/plain": [
       "<Figure size 640x480 with 1 Axes>"
      ]
     },
     "metadata": {},
     "output_type": "display_data"
    }
   ],
   "source": [
    "sns.scatterplot(data = df, x ='price', y ='service_fee')"
   ]
  },
  {
   "cell_type": "code",
   "execution_count": 64,
   "id": "9bc35779",
   "metadata": {},
   "outputs": [],
   "source": [
    "# Создает фрейм данных, удаляя пропущенные цифры для price и service_fee:\n",
    "train_data = df.dropna(subset = ['price', 'service_fee'])\n",
    "train_data = train_data[['price', 'service_fee']]"
   ]
  },
  {
   "cell_type": "code",
   "execution_count": 65,
   "id": "fcc227d7",
   "metadata": {},
   "outputs": [],
   "source": [
    "#Создает фрейм данных, когда service_fee равен nan:\n",
    "test_service_fee = df[['price', 'service_fee']]\n",
    "test_service_fee = test_service_fee[df['service_fee'].isnull()]\n",
    "\n",
    "# Сбрасывает nan с цены:\n",
    "test_service_fee = test_service_fee.dropna(subset = ['price'])\n",
    "\n",
    "# Создает фрейм данных, когда цена равна nan:\n",
    "test_price = df[['price', 'service_fee']]\n",
    "test_price = test_price[df['price'].isnull()]\n",
    "\n",
    "# Drops nan from service_fee:\n",
    "test_price = test_price.dropna(subset = ['service_fee'])"
   ]
  },
  {
   "cell_type": "code",
   "execution_count": 66,
   "id": "fd72297c",
   "metadata": {
    "scrolled": true
   },
   "outputs": [
    {
     "data": {
      "text/html": [
       "<div>\n",
       "<style scoped>\n",
       "    .dataframe tbody tr th:only-of-type {\n",
       "        vertical-align: middle;\n",
       "    }\n",
       "\n",
       "    .dataframe tbody tr th {\n",
       "        vertical-align: top;\n",
       "    }\n",
       "\n",
       "    .dataframe thead th {\n",
       "        text-align: right;\n",
       "    }\n",
       "</style>\n",
       "<table border=\"1\" class=\"dataframe\">\n",
       "  <thead>\n",
       "    <tr style=\"text-align: right;\">\n",
       "      <th></th>\n",
       "      <th>price</th>\n",
       "      <th>service_fee</th>\n",
       "    </tr>\n",
       "  </thead>\n",
       "  <tbody>\n",
       "    <tr>\n",
       "      <th>15</th>\n",
       "      <td>578.0</td>\n",
       "      <td>NaN</td>\n",
       "    </tr>\n",
       "    <tr>\n",
       "      <th>16</th>\n",
       "      <td>778.0</td>\n",
       "      <td>NaN</td>\n",
       "    </tr>\n",
       "    <tr>\n",
       "      <th>17</th>\n",
       "      <td>656.0</td>\n",
       "      <td>NaN</td>\n",
       "    </tr>\n",
       "    <tr>\n",
       "      <th>18</th>\n",
       "      <td>460.0</td>\n",
       "      <td>NaN</td>\n",
       "    </tr>\n",
       "    <tr>\n",
       "      <th>19</th>\n",
       "      <td>1095.0</td>\n",
       "      <td>NaN</td>\n",
       "    </tr>\n",
       "    <tr>\n",
       "      <th>...</th>\n",
       "      <td>...</td>\n",
       "      <td>...</td>\n",
       "    </tr>\n",
       "    <tr>\n",
       "      <th>102053</th>\n",
       "      <td>696.0</td>\n",
       "      <td>NaN</td>\n",
       "    </tr>\n",
       "    <tr>\n",
       "      <th>102054</th>\n",
       "      <td>909.0</td>\n",
       "      <td>NaN</td>\n",
       "    </tr>\n",
       "    <tr>\n",
       "      <th>102055</th>\n",
       "      <td>387.0</td>\n",
       "      <td>NaN</td>\n",
       "    </tr>\n",
       "    <tr>\n",
       "      <th>102056</th>\n",
       "      <td>848.0</td>\n",
       "      <td>NaN</td>\n",
       "    </tr>\n",
       "    <tr>\n",
       "      <th>102057</th>\n",
       "      <td>1128.0</td>\n",
       "      <td>NaN</td>\n",
       "    </tr>\n",
       "  </tbody>\n",
       "</table>\n",
       "<p>231 rows × 2 columns</p>\n",
       "</div>"
      ],
      "text/plain": [
       "         price  service_fee\n",
       "15       578.0          NaN\n",
       "16       778.0          NaN\n",
       "17       656.0          NaN\n",
       "18       460.0          NaN\n",
       "19      1095.0          NaN\n",
       "...        ...          ...\n",
       "102053   696.0          NaN\n",
       "102054   909.0          NaN\n",
       "102055   387.0          NaN\n",
       "102056   848.0          NaN\n",
       "102057  1128.0          NaN\n",
       "\n",
       "[231 rows x 2 columns]"
      ]
     },
     "execution_count": 66,
     "metadata": {},
     "output_type": "execute_result"
    }
   ],
   "source": [
    "test_service_fee"
   ]
  },
  {
   "cell_type": "markdown",
   "id": "7f07499e",
   "metadata": {},
   "source": [
    "### Линейная регрессия для service_fee"
   ]
  },
  {
   "cell_type": "code",
   "execution_count": 67,
   "id": "39d0b7df",
   "metadata": {},
   "outputs": [],
   "source": [
    "X_train_fee = train_data.drop(columns = ['service_fee'])\n",
    "y_train_fee = train_data['service_fee']"
   ]
  },
  {
   "cell_type": "code",
   "execution_count": 68,
   "id": "9e683653",
   "metadata": {},
   "outputs": [
    {
     "data": {
      "text/html": [
       "<style>#sk-container-id-1 {color: black;background-color: white;}#sk-container-id-1 pre{padding: 0;}#sk-container-id-1 div.sk-toggleable {background-color: white;}#sk-container-id-1 label.sk-toggleable__label {cursor: pointer;display: block;width: 100%;margin-bottom: 0;padding: 0.3em;box-sizing: border-box;text-align: center;}#sk-container-id-1 label.sk-toggleable__label-arrow:before {content: \"▸\";float: left;margin-right: 0.25em;color: #696969;}#sk-container-id-1 label.sk-toggleable__label-arrow:hover:before {color: black;}#sk-container-id-1 div.sk-estimator:hover label.sk-toggleable__label-arrow:before {color: black;}#sk-container-id-1 div.sk-toggleable__content {max-height: 0;max-width: 0;overflow: hidden;text-align: left;background-color: #f0f8ff;}#sk-container-id-1 div.sk-toggleable__content pre {margin: 0.2em;color: black;border-radius: 0.25em;background-color: #f0f8ff;}#sk-container-id-1 input.sk-toggleable__control:checked~div.sk-toggleable__content {max-height: 200px;max-width: 100%;overflow: auto;}#sk-container-id-1 input.sk-toggleable__control:checked~label.sk-toggleable__label-arrow:before {content: \"▾\";}#sk-container-id-1 div.sk-estimator input.sk-toggleable__control:checked~label.sk-toggleable__label {background-color: #d4ebff;}#sk-container-id-1 div.sk-label input.sk-toggleable__control:checked~label.sk-toggleable__label {background-color: #d4ebff;}#sk-container-id-1 input.sk-hidden--visually {border: 0;clip: rect(1px 1px 1px 1px);clip: rect(1px, 1px, 1px, 1px);height: 1px;margin: -1px;overflow: hidden;padding: 0;position: absolute;width: 1px;}#sk-container-id-1 div.sk-estimator {font-family: monospace;background-color: #f0f8ff;border: 1px dotted black;border-radius: 0.25em;box-sizing: border-box;margin-bottom: 0.5em;}#sk-container-id-1 div.sk-estimator:hover {background-color: #d4ebff;}#sk-container-id-1 div.sk-parallel-item::after {content: \"\";width: 100%;border-bottom: 1px solid gray;flex-grow: 1;}#sk-container-id-1 div.sk-label:hover label.sk-toggleable__label {background-color: #d4ebff;}#sk-container-id-1 div.sk-serial::before {content: \"\";position: absolute;border-left: 1px solid gray;box-sizing: border-box;top: 0;bottom: 0;left: 50%;z-index: 0;}#sk-container-id-1 div.sk-serial {display: flex;flex-direction: column;align-items: center;background-color: white;padding-right: 0.2em;padding-left: 0.2em;position: relative;}#sk-container-id-1 div.sk-item {position: relative;z-index: 1;}#sk-container-id-1 div.sk-parallel {display: flex;align-items: stretch;justify-content: center;background-color: white;position: relative;}#sk-container-id-1 div.sk-item::before, #sk-container-id-1 div.sk-parallel-item::before {content: \"\";position: absolute;border-left: 1px solid gray;box-sizing: border-box;top: 0;bottom: 0;left: 50%;z-index: -1;}#sk-container-id-1 div.sk-parallel-item {display: flex;flex-direction: column;z-index: 1;position: relative;background-color: white;}#sk-container-id-1 div.sk-parallel-item:first-child::after {align-self: flex-end;width: 50%;}#sk-container-id-1 div.sk-parallel-item:last-child::after {align-self: flex-start;width: 50%;}#sk-container-id-1 div.sk-parallel-item:only-child::after {width: 0;}#sk-container-id-1 div.sk-dashed-wrapped {border: 1px dashed gray;margin: 0 0.4em 0.5em 0.4em;box-sizing: border-box;padding-bottom: 0.4em;background-color: white;}#sk-container-id-1 div.sk-label label {font-family: monospace;font-weight: bold;display: inline-block;line-height: 1.2em;}#sk-container-id-1 div.sk-label-container {text-align: center;}#sk-container-id-1 div.sk-container {/* jupyter's `normalize.less` sets `[hidden] { display: none; }` but bootstrap.min.css set `[hidden] { display: none !important; }` so we also need the `!important` here to be able to override the default hidden behavior on the sphinx rendered scikit-learn.org. See: https://github.com/scikit-learn/scikit-learn/issues/21755 */display: inline-block !important;position: relative;}#sk-container-id-1 div.sk-text-repr-fallback {display: none;}</style><div id=\"sk-container-id-1\" class=\"sk-top-container\"><div class=\"sk-text-repr-fallback\"><pre>LinearRegression()</pre><b>In a Jupyter environment, please rerun this cell to show the HTML representation or trust the notebook. <br />On GitHub, the HTML representation is unable to render, please try loading this page with nbviewer.org.</b></div><div class=\"sk-container\" hidden><div class=\"sk-item\"><div class=\"sk-estimator sk-toggleable\"><input class=\"sk-toggleable__control sk-hidden--visually\" id=\"sk-estimator-id-1\" type=\"checkbox\" checked><label for=\"sk-estimator-id-1\" class=\"sk-toggleable__label sk-toggleable__label-arrow\">LinearRegression</label><div class=\"sk-toggleable__content\"><pre>LinearRegression()</pre></div></div></div></div></div>"
      ],
      "text/plain": [
       "LinearRegression()"
      ]
     },
     "execution_count": 68,
     "metadata": {},
     "output_type": "execute_result"
    }
   ],
   "source": [
    "from sklearn.linear_model import LinearRegression\n",
    "\n",
    "lr_fee = LinearRegression()\n",
    "lr_fee.fit(X_train_fee, y_train_fee)"
   ]
  },
  {
   "cell_type": "code",
   "execution_count": 69,
   "id": "8fbd47b3",
   "metadata": {},
   "outputs": [
    {
     "data": {
      "text/html": [
       "<div>\n",
       "<style scoped>\n",
       "    .dataframe tbody tr th:only-of-type {\n",
       "        vertical-align: middle;\n",
       "    }\n",
       "\n",
       "    .dataframe tbody tr th {\n",
       "        vertical-align: top;\n",
       "    }\n",
       "\n",
       "    .dataframe thead th {\n",
       "        text-align: right;\n",
       "    }\n",
       "</style>\n",
       "<table border=\"1\" class=\"dataframe\">\n",
       "  <thead>\n",
       "    <tr style=\"text-align: right;\">\n",
       "      <th></th>\n",
       "      <th>fit_time</th>\n",
       "      <th>score_time</th>\n",
       "      <th>test_score</th>\n",
       "    </tr>\n",
       "  </thead>\n",
       "  <tbody>\n",
       "    <tr>\n",
       "      <th>0</th>\n",
       "      <td>0.011970</td>\n",
       "      <td>0.001994</td>\n",
       "      <td>0.999982</td>\n",
       "    </tr>\n",
       "    <tr>\n",
       "      <th>1</th>\n",
       "      <td>0.011966</td>\n",
       "      <td>0.001995</td>\n",
       "      <td>0.999982</td>\n",
       "    </tr>\n",
       "    <tr>\n",
       "      <th>2</th>\n",
       "      <td>0.007978</td>\n",
       "      <td>0.001994</td>\n",
       "      <td>0.999982</td>\n",
       "    </tr>\n",
       "    <tr>\n",
       "      <th>3</th>\n",
       "      <td>0.009974</td>\n",
       "      <td>0.001995</td>\n",
       "      <td>0.999982</td>\n",
       "    </tr>\n",
       "    <tr>\n",
       "      <th>4</th>\n",
       "      <td>0.007977</td>\n",
       "      <td>0.002993</td>\n",
       "      <td>0.999982</td>\n",
       "    </tr>\n",
       "  </tbody>\n",
       "</table>\n",
       "</div>"
      ],
      "text/plain": [
       "   fit_time  score_time  test_score\n",
       "0  0.011970    0.001994    0.999982\n",
       "1  0.011966    0.001995    0.999982\n",
       "2  0.007978    0.001994    0.999982\n",
       "3  0.009974    0.001995    0.999982\n",
       "4  0.007977    0.002993    0.999982"
      ]
     },
     "execution_count": 69,
     "metadata": {},
     "output_type": "execute_result"
    }
   ],
   "source": [
    "from sklearn.model_selection import cross_validate\n",
    "\n",
    "# Результаты перекрестной проверки\n",
    "cv_results = cross_validate(estimator = lr_fee, \n",
    "                           X = X_train_fee,\n",
    "                           y= y_train_fee,\n",
    "                           cv = 5)\n",
    "pd.DataFrame(cv_results)"
   ]
  },
  {
   "cell_type": "code",
   "execution_count": 71,
   "id": "a30932e6",
   "metadata": {},
   "outputs": [],
   "source": [
    "x_test_fee = test_service_fee[['price']]"
   ]
  },
  {
   "cell_type": "code",
   "execution_count": 72,
   "id": "7f88e35b",
   "metadata": {},
   "outputs": [
    {
     "data": {
      "text/plain": [
       "array([115.6005681 , 155.60210999, 131.20116944,  91.99965839,\n",
       "       219.00455388,  17.9968059 , 178.20298116, 160.40229502,\n",
       "       225.804816  , 208.8041607 , 183.4031816 ,  71.39886432,\n",
       "       130.20113089,  50.39805483,  77.19908789,  22.1969678 ,\n",
       "        26.99715282,  47.59794689,  99.79995906, 238.80531712,\n",
       "       177.80296574, 205.80404506, 208.8041607 , 233.00509354,\n",
       "       223.80473891, 232.20506271, 190.00343601,  18.39682132,\n",
       "       219.80458472, 150.00189413, 103.00008241,  14.39666713,\n",
       "       239.20533254,  47.99796231,  90.199589  , 139.80150094,\n",
       "        76.39905705, 222.00466952, 183.60318931, 137.00139301,\n",
       "       160.60230273, 104.20012866, 105.80019034,  51.59810108,\n",
       "       180.20305825,  25.79710656, 112.60045246, 198.00374439,\n",
       "       209.60419154,  23.19700634, 157.00216396, 126.80099983,\n",
       "       128.40106151,  17.9968059 , 201.20386774, 171.20271133,\n",
       "       184.00320473, 167.60257256, 218.00451534, 103.20009012,\n",
       "       199.00378294, 219.20456159,  75.79903392, 187.40333579,\n",
       "       226.80485455,  93.99973548, 167.00254943, 226.60484684,\n",
       "       139.80150094, 115.40056039,  59.39840175,  91.39963526,\n",
       "       120.20074542,  52.99815505, 173.80281155, 173.40279613,\n",
       "        54.79822443,  27.19716053, 122.80084564, 154.80207915,\n",
       "       178.00297345, 122.20082251, 139.20147782, 206.00405277,\n",
       "       187.40333579, 124.0008919 , 126.60099212, 123.20086106,\n",
       "       215.80443053, 174.00281926,  59.39840175,  83.7993423 ,\n",
       "       193.40356707,  68.79876409,  14.79668255, 213.20433031,\n",
       "        98.79992051, 150.40190955,  45.99788522, 229.60496248,\n",
       "       160.40229502, 133.00123882, 173.00278071,  31.19731472,\n",
       "        67.39871013,  65.59864074, 215.60442282, 114.20051414,\n",
       "       165.40248775, 131.80119257, 103.80011325, 120.80076855,\n",
       "       183.4031816 , 100.39998219, 207.40410674, 235.00517064,\n",
       "        62.19850968, 110.60037537, 145.2017091 ,  46.19789293,\n",
       "       157.60218708, 233.60511667,  59.79841717, 179.40302741,\n",
       "       221.4046464 ,  26.5971374 ,  44.59783125,  23.39701405,\n",
       "        74.59898767, 233.40510896, 143.60164742,  44.99784667,\n",
       "       159.00224105, 105.0001595 ,  25.79710656, 233.00509354,\n",
       "        29.19723763, 153.40202519, 210.8042378 , 176.20290406,\n",
       "       227.60488539, 126.80099983,  89.79957359, 184.60322786,\n",
       "        67.19870242,  68.39874868, 104.40013637, 223.20471578,\n",
       "        60.3984403 ,  35.79749204, 219.80458472,  63.59856365,\n",
       "       220.40460785, 197.00370584,   9.99649752, 183.20317389,\n",
       "        16.79675964, 181.60311222, 222.00466952,  93.99973548,\n",
       "       196.40368272,  82.59929605, 146.20174765, 127.40102296,\n",
       "        44.59783125, 204.80400651, 160.0022796 , 167.80258027,\n",
       "       164.60245692, 192.20352082, 225.00478517, 146.60176307,\n",
       "       138.60145469, 144.00166284, 196.0036673 , 125.60095357,\n",
       "       163.80242608, 227.40487768,  86.79945794, 230.0049779 ,\n",
       "       141.40156262, 182.80315847, 136.40136988,  74.59898767,\n",
       "        64.99861761, 237.40526315, 100.39998219, 227.8048931 ,\n",
       "        56.79830153,  58.59837091,  28.79722221,  59.79841717,\n",
       "       198.80377523, 229.40495477, 151.00193267, 131.80119257,\n",
       "        85.7994194 , 153.80204061, 217.60449992,  68.79876409,\n",
       "       169.20263423,  50.99807795,  12.79660545,  27.59717595,\n",
       "       185.60326641,  23.59702176,  75.59902622,  55.19823985,\n",
       "        69.99881035, 126.00096899, 104.60014408,  20.79691383,\n",
       "       206.6040759 ,  30.19727617, 215.40441511,  65.19862532,\n",
       "       201.00386003,  60.59844801, 152.80200206,  27.59717595,\n",
       "       214.60438427, 106.20020576, 114.00050643, 133.00123882,\n",
       "        29.39724533, 236.60523231, 139.20147782, 181.80311993,\n",
       "        77.3990956 , 169.60264965, 225.60480829])"
      ]
     },
     "execution_count": 72,
     "metadata": {},
     "output_type": "execute_result"
    }
   ],
   "source": [
    "# Получение прогноза service_fee\n",
    "y_pred_fee = lr_fee.predict(x_test_fee)\n",
    "y_pred_fee"
   ]
  },
  {
   "cell_type": "code",
   "execution_count": 73,
   "id": "fa98d5f8",
   "metadata": {},
   "outputs": [],
   "source": [
    "test_service_fee['fee_pred'] = y_pred_fee\n",
    "test_service_fee = test_service_fee.round(1)\n",
    "test_service_fee = test_service_fee.drop(columns = ['price', 'service_fee'])"
   ]
  },
  {
   "cell_type": "code",
   "execution_count": 76,
   "id": "61938e52",
   "metadata": {},
   "outputs": [],
   "source": [
    "# Объединить данные с прогнозируемой fee платой\n",
    "df = pd.concat([df, test_service_fee], axis = 1)\n",
    "\n",
    "# Замените пропущенные значения в service_fee на fee_pred\n",
    "df['service_fee'] = df['service_fee'].fillna(df.pop('fee_pred'))"
   ]
  },
  {
   "cell_type": "markdown",
   "id": "9cc8f355",
   "metadata": {},
   "source": [
    "### Линейная регрессия для price"
   ]
  },
  {
   "cell_type": "code",
   "execution_count": 78,
   "id": "367a0e85",
   "metadata": {},
   "outputs": [],
   "source": [
    "# Разделяет x-train и y_train из train_data по цене\n",
    "X_train_price = train_data.drop(columns = ['price'])\n",
    "y_train_price = train_data['price']"
   ]
  },
  {
   "cell_type": "code",
   "execution_count": 79,
   "id": "54729109",
   "metadata": {},
   "outputs": [
    {
     "data": {
      "text/html": [
       "<style>#sk-container-id-2 {color: black;background-color: white;}#sk-container-id-2 pre{padding: 0;}#sk-container-id-2 div.sk-toggleable {background-color: white;}#sk-container-id-2 label.sk-toggleable__label {cursor: pointer;display: block;width: 100%;margin-bottom: 0;padding: 0.3em;box-sizing: border-box;text-align: center;}#sk-container-id-2 label.sk-toggleable__label-arrow:before {content: \"▸\";float: left;margin-right: 0.25em;color: #696969;}#sk-container-id-2 label.sk-toggleable__label-arrow:hover:before {color: black;}#sk-container-id-2 div.sk-estimator:hover label.sk-toggleable__label-arrow:before {color: black;}#sk-container-id-2 div.sk-toggleable__content {max-height: 0;max-width: 0;overflow: hidden;text-align: left;background-color: #f0f8ff;}#sk-container-id-2 div.sk-toggleable__content pre {margin: 0.2em;color: black;border-radius: 0.25em;background-color: #f0f8ff;}#sk-container-id-2 input.sk-toggleable__control:checked~div.sk-toggleable__content {max-height: 200px;max-width: 100%;overflow: auto;}#sk-container-id-2 input.sk-toggleable__control:checked~label.sk-toggleable__label-arrow:before {content: \"▾\";}#sk-container-id-2 div.sk-estimator input.sk-toggleable__control:checked~label.sk-toggleable__label {background-color: #d4ebff;}#sk-container-id-2 div.sk-label input.sk-toggleable__control:checked~label.sk-toggleable__label {background-color: #d4ebff;}#sk-container-id-2 input.sk-hidden--visually {border: 0;clip: rect(1px 1px 1px 1px);clip: rect(1px, 1px, 1px, 1px);height: 1px;margin: -1px;overflow: hidden;padding: 0;position: absolute;width: 1px;}#sk-container-id-2 div.sk-estimator {font-family: monospace;background-color: #f0f8ff;border: 1px dotted black;border-radius: 0.25em;box-sizing: border-box;margin-bottom: 0.5em;}#sk-container-id-2 div.sk-estimator:hover {background-color: #d4ebff;}#sk-container-id-2 div.sk-parallel-item::after {content: \"\";width: 100%;border-bottom: 1px solid gray;flex-grow: 1;}#sk-container-id-2 div.sk-label:hover label.sk-toggleable__label {background-color: #d4ebff;}#sk-container-id-2 div.sk-serial::before {content: \"\";position: absolute;border-left: 1px solid gray;box-sizing: border-box;top: 0;bottom: 0;left: 50%;z-index: 0;}#sk-container-id-2 div.sk-serial {display: flex;flex-direction: column;align-items: center;background-color: white;padding-right: 0.2em;padding-left: 0.2em;position: relative;}#sk-container-id-2 div.sk-item {position: relative;z-index: 1;}#sk-container-id-2 div.sk-parallel {display: flex;align-items: stretch;justify-content: center;background-color: white;position: relative;}#sk-container-id-2 div.sk-item::before, #sk-container-id-2 div.sk-parallel-item::before {content: \"\";position: absolute;border-left: 1px solid gray;box-sizing: border-box;top: 0;bottom: 0;left: 50%;z-index: -1;}#sk-container-id-2 div.sk-parallel-item {display: flex;flex-direction: column;z-index: 1;position: relative;background-color: white;}#sk-container-id-2 div.sk-parallel-item:first-child::after {align-self: flex-end;width: 50%;}#sk-container-id-2 div.sk-parallel-item:last-child::after {align-self: flex-start;width: 50%;}#sk-container-id-2 div.sk-parallel-item:only-child::after {width: 0;}#sk-container-id-2 div.sk-dashed-wrapped {border: 1px dashed gray;margin: 0 0.4em 0.5em 0.4em;box-sizing: border-box;padding-bottom: 0.4em;background-color: white;}#sk-container-id-2 div.sk-label label {font-family: monospace;font-weight: bold;display: inline-block;line-height: 1.2em;}#sk-container-id-2 div.sk-label-container {text-align: center;}#sk-container-id-2 div.sk-container {/* jupyter's `normalize.less` sets `[hidden] { display: none; }` but bootstrap.min.css set `[hidden] { display: none !important; }` so we also need the `!important` here to be able to override the default hidden behavior on the sphinx rendered scikit-learn.org. See: https://github.com/scikit-learn/scikit-learn/issues/21755 */display: inline-block !important;position: relative;}#sk-container-id-2 div.sk-text-repr-fallback {display: none;}</style><div id=\"sk-container-id-2\" class=\"sk-top-container\"><div class=\"sk-text-repr-fallback\"><pre>LinearRegression()</pre><b>In a Jupyter environment, please rerun this cell to show the HTML representation or trust the notebook. <br />On GitHub, the HTML representation is unable to render, please try loading this page with nbviewer.org.</b></div><div class=\"sk-container\" hidden><div class=\"sk-item\"><div class=\"sk-estimator sk-toggleable\"><input class=\"sk-toggleable__control sk-hidden--visually\" id=\"sk-estimator-id-2\" type=\"checkbox\" checked><label for=\"sk-estimator-id-2\" class=\"sk-toggleable__label sk-toggleable__label-arrow\">LinearRegression</label><div class=\"sk-toggleable__content\"><pre>LinearRegression()</pre></div></div></div></div></div>"
      ],
      "text/plain": [
       "LinearRegression()"
      ]
     },
     "execution_count": 79,
     "metadata": {},
     "output_type": "execute_result"
    }
   ],
   "source": [
    "lr_price = LinearRegression()\n",
    "lr_price.fit(X_train_price, y_train_price)"
   ]
  },
  {
   "cell_type": "code",
   "execution_count": 80,
   "id": "200e3f99",
   "metadata": {},
   "outputs": [
    {
     "data": {
      "text/html": [
       "<div>\n",
       "<style scoped>\n",
       "    .dataframe tbody tr th:only-of-type {\n",
       "        vertical-align: middle;\n",
       "    }\n",
       "\n",
       "    .dataframe tbody tr th {\n",
       "        vertical-align: top;\n",
       "    }\n",
       "\n",
       "    .dataframe thead th {\n",
       "        text-align: right;\n",
       "    }\n",
       "</style>\n",
       "<table border=\"1\" class=\"dataframe\">\n",
       "  <thead>\n",
       "    <tr style=\"text-align: right;\">\n",
       "      <th></th>\n",
       "      <th>fit_time</th>\n",
       "      <th>score_time</th>\n",
       "      <th>test_score</th>\n",
       "    </tr>\n",
       "  </thead>\n",
       "  <tbody>\n",
       "    <tr>\n",
       "      <th>0</th>\n",
       "      <td>0.010970</td>\n",
       "      <td>0.002991</td>\n",
       "      <td>0.999982</td>\n",
       "    </tr>\n",
       "    <tr>\n",
       "      <th>1</th>\n",
       "      <td>0.011970</td>\n",
       "      <td>0.001992</td>\n",
       "      <td>0.999982</td>\n",
       "    </tr>\n",
       "    <tr>\n",
       "      <th>2</th>\n",
       "      <td>0.007980</td>\n",
       "      <td>0.001993</td>\n",
       "      <td>0.999982</td>\n",
       "    </tr>\n",
       "    <tr>\n",
       "      <th>3</th>\n",
       "      <td>0.008977</td>\n",
       "      <td>0.000996</td>\n",
       "      <td>0.999982</td>\n",
       "    </tr>\n",
       "    <tr>\n",
       "      <th>4</th>\n",
       "      <td>0.009973</td>\n",
       "      <td>0.001994</td>\n",
       "      <td>0.999982</td>\n",
       "    </tr>\n",
       "  </tbody>\n",
       "</table>\n",
       "</div>"
      ],
      "text/plain": [
       "   fit_time  score_time  test_score\n",
       "0  0.010970    0.002991    0.999982\n",
       "1  0.011970    0.001992    0.999982\n",
       "2  0.007980    0.001993    0.999982\n",
       "3  0.008977    0.000996    0.999982\n",
       "4  0.009973    0.001994    0.999982"
      ]
     },
     "execution_count": 80,
     "metadata": {},
     "output_type": "execute_result"
    }
   ],
   "source": [
    "# Результаты перекрестной проверки\n",
    "cv_results_price = cross_validate(estimator = lr_price,\n",
    "                                 X = X_train_price,\n",
    "                                 y = y_train_price,\n",
    "                                 cv = 5)\n",
    "pd.DataFrame(cv_results_price)"
   ]
  },
  {
   "cell_type": "code",
   "execution_count": 81,
   "id": "5a8b59bb",
   "metadata": {},
   "outputs": [],
   "source": [
    "# Создает x_test из data_test_price\n",
    "x_test_price = test_price[['service_fee']]"
   ]
  },
  {
   "cell_type": "code",
   "execution_count": 82,
   "id": "926d3898",
   "metadata": {},
   "outputs": [
    {
     "data": {
      "text/plain": [
       "array([ 320.01268369,  594.99706303,  879.98087435,  759.98769064,\n",
       "        754.98797465,  240.01722788,  145.02262411,  280.01495579,\n",
       "        415.00728746,  649.9939389 ,  135.02319213,  589.99734705,\n",
       "       1089.96894585,  719.98996274,  415.00728746,  215.01864794,\n",
       "        465.00444734,  250.01665986,  500.00245926,  949.97689819,\n",
       "        759.98769064,  330.01211567,  559.99905112,  934.97775022,\n",
       "        709.99053076,  410.00757148,   50.02802033,  390.00870752,\n",
       "       1044.97150196,  884.98059034,  180.02063602,  614.99592699,\n",
       "        140.02290812, 1024.97263801,  859.9820104 , 1059.97064992,\n",
       "        500.00245926,  854.98229441,  564.99876711,  335.01183165,\n",
       "        554.99933513, 1159.96496969,  859.9820104 ,   90.02574824,\n",
       "       1019.97292202,  589.99734705,  365.01012758,  180.02063602,\n",
       "        564.99876711,  974.97547813,  714.99024675,  525.0010392 ,\n",
       "        919.97860226,  709.99053076,  544.99990315,  824.98399848,\n",
       "        410.00757148,  360.01041159,  180.02063602,  385.00899153,\n",
       "        719.98996274,  909.97917028,  420.00700345, 1089.96894585,\n",
       "        270.01552381,  190.020068  ,  924.97831825, 1129.96667376,\n",
       "        375.00955956,  455.00501537, 1084.96922986,  440.0058674 ,\n",
       "        405.00785549,  709.99053076,  220.01836393,  994.97434208,\n",
       "        664.99308687,  639.99450693,  564.99876711,  205.01921596,\n",
       "        604.99649501,  794.98570256,  330.01211567,  949.97689819,\n",
       "        205.01921596,  495.00274327,  305.01353573,  749.98825866,\n",
       "        440.0058674 ,  485.0033113 ,   85.02603225,  485.0033113 ,\n",
       "        919.97860226,   65.0271683 ,  894.98002232,  819.9842825 ,\n",
       "        999.97405807,  874.98115837,  759.98769064,  764.98740663,\n",
       "        525.0010392 ,  589.99734705,  105.0248962 ,  160.02177207,\n",
       "        190.020068  ,  325.01239968,  525.0010392 ,  999.97405807,\n",
       "        315.0129677 ,  784.98627058,  115.02432818,  714.99024675,\n",
       "       1194.9629816 ,  445.00558339,   60.02745231,  355.01069561,\n",
       "        589.99734705,  140.02290812,  480.00359531,  455.00501537,\n",
       "        879.98087435,  984.9749101 ,  719.98996274,  315.0129677 ,\n",
       "        959.97633016,  854.98229441,   75.02660027,  754.98797465,\n",
       "        365.01012758,  914.97888627,   65.0271683 ,  824.98399848,\n",
       "        130.02347614,  435.00615142,  110.02461219, 1084.96922986,\n",
       "        869.98144238, 1129.96667376,  525.0010392 ,  140.02290812,\n",
       "        150.0223401 ,  884.98059034,  330.01211567,  709.99053076,\n",
       "        110.02461219, 1184.96354963,  589.99734705,  699.99109878,\n",
       "       1164.96468567, 1044.97150196,  340.01154764, 1169.96440166,\n",
       "        989.97462609,  914.97888627,  559.99905112,  450.00529938,\n",
       "        525.0010392 ,  944.9771822 ,  694.9913828 ,   75.02660027,\n",
       "        924.97831825,  125.02376016,  759.98769064, 1129.96667376,\n",
       "        440.0058674 ,  644.99422291, 1019.97292202,  355.01069561,\n",
       "        470.00416333,  739.98882669,  879.98087435,  540.00018716,\n",
       "        540.00018716, 1194.9629816 ,  604.99649501,  849.98257843,\n",
       "        554.99933513, 1144.96582172,  589.99734705,  365.01012758,\n",
       "        704.99081477,  430.00643543,  230.0177959 ,  559.99905112,\n",
       "        619.99564297,  829.98371447,  330.01211567, 1134.96638974,\n",
       "        744.98854268,  295.01410375,  480.00359531,  310.01325171,\n",
       "        894.98002232,  440.0058674 ,  924.97831825,  964.97604615,\n",
       "        170.02120405,  145.02262411, 1169.96440166,  814.98456651,\n",
       "        290.01438776,  559.99905112,  345.01126363])"
      ]
     },
     "execution_count": 82,
     "metadata": {},
     "output_type": "execute_result"
    }
   ],
   "source": [
    "# Получение прогноза price\n",
    "y_pred_price = lr_price.predict(x_test_price)\n",
    "y_pred_price"
   ]
  },
  {
   "cell_type": "code",
   "execution_count": 83,
   "id": "896ec634",
   "metadata": {},
   "outputs": [],
   "source": [
    "test_price['price_pred'] = y_pred_price\n",
    "test_price = test_price.round(1)\n",
    "test_price = test_price.drop(columns = ['price', 'service_fee'])"
   ]
  },
  {
   "cell_type": "code",
   "execution_count": 84,
   "id": "3d465f97",
   "metadata": {},
   "outputs": [],
   "source": [
    "# Объединить данные с прогнозируемой price платой \n",
    "df = pd.concat([df, test_price], axis = 1)\n",
    "\n",
    "# Замените пропущенные значения в service_fee на fee_pred\n",
    "df['price'] = df['price'].fillna(df.pop('price_pred'))"
   ]
  },
  {
   "cell_type": "code",
   "execution_count": 85,
   "id": "973170ca",
   "metadata": {},
   "outputs": [
    {
     "data": {
      "text/plain": [
       "id                                 0.00\n",
       "host_id                            0.00\n",
       "room_type                          0.00\n",
       "lat                                0.00\n",
       "long                               0.00\n",
       "country                            0.00\n",
       "country_code                       0.00\n",
       "neighbourhood                      0.01\n",
       "neighbourhood_group                0.02\n",
       "service_fee                        0.03\n",
       "price                              0.03\n",
       "cancellation_policy                0.06\n",
       "instant_bookable                   0.09\n",
       "number_of_reviews                  0.18\n",
       "construction_year                  0.20\n",
       "name                               0.24\n",
       "host_identity_verified             0.28\n",
       "calculated_host_listings_count     0.30\n",
       "review_rate_number                 0.31\n",
       "minimum_nights                     0.39\n",
       "host_name                          0.40\n",
       "availability_365                   0.45\n",
       "reviews_per_month                 15.42\n",
       "last_review                       15.43\n",
       "dtype: float64"
      ]
     },
     "execution_count": 85,
     "metadata": {},
     "output_type": "execute_result"
    }
   ],
   "source": [
    "round(df.isnull().sum()*100/len(df),2).sort_values()"
   ]
  },
  {
   "cell_type": "markdown",
   "id": "bca024ce",
   "metadata": {},
   "source": [
    "### После предварительной обработки количество пропущенных значений для price и service_fee уменьшилось с 24% и 27% примерно до 3%."
   ]
  },
  {
   "cell_type": "code",
   "execution_count": 86,
   "id": "ad25d827",
   "metadata": {
    "scrolled": false
   },
   "outputs": [
    {
     "data": {
      "text/plain": [
       "id                                99284\n",
       "name                              59669\n",
       "host_id                           99283\n",
       "host_identity_verified                2\n",
       "host_name                         12985\n",
       "neighbourhood_group                   5\n",
       "neighbourhood                       224\n",
       "lat                               21828\n",
       "long                              17704\n",
       "country                               1\n",
       "country_code                          1\n",
       "instant_bookable                      2\n",
       "cancellation_policy                   3\n",
       "room_type                             4\n",
       "construction_year                    20\n",
       "price                              1151\n",
       "service_fee                         396\n",
       "minimum_nights                      140\n",
       "number_of_reviews                   476\n",
       "last_review                        2453\n",
       "reviews_per_month                  1016\n",
       "review_rate_number                    5\n",
       "calculated_host_listings_count       78\n",
       "availability_365                    376\n",
       "dtype: int64"
      ]
     },
     "execution_count": 86,
     "metadata": {},
     "output_type": "execute_result"
    }
   ],
   "source": [
    "df.nunique()"
   ]
  },
  {
   "cell_type": "markdown",
   "id": "4cfbcdfd",
   "metadata": {},
   "source": [
    "### Предварительный анализ"
   ]
  },
  {
   "cell_type": "markdown",
   "id": "53ef5eb9",
   "metadata": {},
   "source": [
    "### Цена в зависимости от района и в зависимости от типа номера"
   ]
  },
  {
   "cell_type": "code",
   "execution_count": 91,
   "id": "94764f9c",
   "metadata": {
    "scrolled": false
   },
   "outputs": [
    {
     "data": {
      "image/png": "[encoded data removed]",
      "text/plain": [
       "<Figure size 1200x600 with 1 Axes>"
      ]
     },
     "metadata": {},
     "output_type": "display_data"
    }
   ],
   "source": [
    "plt.figure(figsize = (12,6))\n",
    "\n",
    "a = sns.boxplot(data = df, y = 'price', x ='neighbourhood_group', hue = 'room_type');\n",
    "a.set_title('Цена за тип комнаты по району', size = 15)\n",
    "a.set(xlabel = 'Район', ylabel = 'Цена');\n",
    "\n",
    "a.legend(title=\"Тип комнаты\", bbox_to_anchor=(1.04, 0), loc=\"lower left\", borderaxespad=0);"
   ]
  },
  {
   "cell_type": "markdown",
   "id": "ea151432",
   "metadata": {},
   "source": [
    "###### Средняя цена почти одинакова, независимо от типа номера или местоположения, за редким исключением. Например, стоимость гостиничного номера в Бруклине может быть дороже, чем в Квинсе."
   ]
  },
  {
   "cell_type": "markdown",
   "id": "8b7d2de3",
   "metadata": {},
   "source": [
    "### Количество типов комнат"
   ]
  },
  {
   "cell_type": "code",
   "execution_count": 92,
   "id": "ae163e73",
   "metadata": {},
   "outputs": [
    {
     "data": {
      "image/png": "[encoded data removed]",
      "text/plain": [
       "<Figure size 640x480 with 1 Axes>"
      ]
     },
     "metadata": {},
     "output_type": "display_data"
    }
   ],
   "source": [
    "ax = sns.countplot(y = df['room_type'], order = df['room_type'].value_counts().index);\n",
    "ax.set_title('Количество объявлений в зависимости от типа комнаты', size = 15)\n",
    "ax.set(xlabel = 'Количество объявлений', ylabel = 'Тип комнаты');\n",
    "\n",
    "sns.despine()\n",
    "\n",
    "abs_values = df['room_type'].value_counts(ascending = False).values\n",
    "\n",
    "ax.bar_label(container = ax.containers[0], labels = abs_values);"
   ]
  },
  {
   "cell_type": "code",
   "execution_count": 110,
   "id": "ba708dab",
   "metadata": {},
   "outputs": [
    {
     "name": "stdout",
     "output_type": "stream",
     "text": [
      "Всего постов о сдаче комнат: 99284\n",
      "Постов о сдаче всего дома/квартиры: 51879 или 52.25%\n"
     ]
    }
   ],
   "source": [
    "print(f'Всего постов о сдаче комнат: {df[\"room_type\"].count()}')\n",
    "print(f'Постов о сдаче всего дома/квартиры: {len(df[df[\"room_type\"] == \"Entire home/apt\"])} или {round(len(df[df[\"room_type\"]==\"Entire home/apt\"])/df[\"room_type\"].count()*100,2)}%')"
   ]
  },
  {
   "cell_type": "code",
   "execution_count": 111,
   "id": "2c510709",
   "metadata": {},
   "outputs": [
    {
     "name": "stdout",
     "output_type": "stream",
     "text": [
      "Постов о сдаче отдельной комнаты: 45126 или 45.45%\n"
     ]
    }
   ],
   "source": [
    "print(f'Постов о сдаче отдельной комнаты: {len(df[df[\"room_type\"] == \"Private room\"])} или {round(len(df[df[\"room_type\"]==\"Private room\"])/df[\"room_type\"].count()*100,2)}%')"
   ]
  },
  {
   "cell_type": "code",
   "execution_count": 112,
   "id": "4446df58",
   "metadata": {},
   "outputs": [
    {
     "name": "stdout",
     "output_type": "stream",
     "text": [
      "Постов о сдаче общей комнаты: 2164 или 2.18%\n"
     ]
    }
   ],
   "source": [
    "print(f'Постов о сдаче общей комнаты: {len(df[df[\"room_type\"] == \"Shared room\"])} или {round(len(df[df[\"room_type\"]==\"Shared room\"])/df[\"room_type\"].count()*100,2)}%')"
   ]
  },
  {
   "cell_type": "code",
   "execution_count": 114,
   "id": "35272900",
   "metadata": {},
   "outputs": [
    {
     "name": "stdout",
     "output_type": "stream",
     "text": [
      "Постов о сдаче гостиничных номеров: 115 или 0.12%\n"
     ]
    }
   ],
   "source": [
    "print(f'Постов о сдаче гостиничных номеров: {len(df[df[\"room_type\"] == \"Hotel room\"])} или {round(len(df[df[\"room_type\"]==\"Hotel room\"])/df[\"room_type\"].count()*100,2)}%')"
   ]
  },
  {
   "cell_type": "code",
   "execution_count": 117,
   "id": "72fc04cf",
   "metadata": {},
   "outputs": [
    {
     "name": "stdout",
     "output_type": "stream",
     "text": [
      "Средняя цена за ночь $625.63\n"
     ]
    }
   ],
   "source": [
    "print(f\"Средняя цена за ночь ${round(df['price'].mean(),2)}\")"
   ]
  },
  {
   "cell_type": "code",
   "execution_count": 118,
   "id": "ec1ede3e",
   "metadata": {
    "scrolled": false
   },
   "outputs": [
    {
     "name": "stdout",
     "output_type": "stream",
     "text": [
      "Среднее минимальное количество дней составляет 8 дней\n"
     ]
    }
   ],
   "source": [
    "nights_booked = df['minimum_nights'].mean().astype(int)\n",
    "print(f'Среднее минимальное количество дней составляет {nights_booked} дней')"
   ]
  },
  {
   "cell_type": "markdown",
   "id": "5408451e",
   "metadata": {},
   "source": [
    "### Брони комнат"
   ]
  },
  {
   "cell_type": "code",
   "execution_count": 123,
   "id": "86b3d243",
   "metadata": {},
   "outputs": [
    {
     "data": {
      "text/plain": [
       "[Text(0.5, 0, 'Количество забронированных комнат'),\n",
       " Text(0, 0.5, 'Количество броней')]"
      ]
     },
     "execution_count": 123,
     "metadata": {},
     "output_type": "execute_result"
    },
    {
     "data": {
      "image/png": "[encoded data removed]",
      "text/plain": [
       "<Figure size 1200x600 with 1 Axes>"
      ]
     },
     "metadata": {},
     "output_type": "display_data"
    }
   ],
   "source": [
    "bins = [0, 1, 5, 10, 20, 40, 80, 160, 320, 500]\n",
    "labels = ['1', '2-5', '6-10', '11, 20', '21-40', '41-80', '81-160', '161-320', '320+']\n",
    "df['bins'] = pd.cut(x = df['calculated_host_listings_count'], bins=bins, labels = labels)\n",
    "\n",
    "plt.figure(figsize = (12,6))\n",
    "a = sns.countplot(x =df['bins']);\n",
    "a.set_title('Сколько раз были забронированны комнаты', size = 15)\n",
    "a.set(xlabel = 'Количество забронированных комнат', ylabel = 'Количество броней')"
   ]
  }
 ],
 "metadata": {
  "kernelspec": {
   "display_name": "Python 3 (ipykernel)",
   "language": "python",
   "name": "python3"
  },
  "language_info": {
   "codemirror_mode": {
    "name": "ipython",
    "version": 3
   },
   "file_extension": ".py",
   "mimetype": "text/x-python",
   "name": "python",
   "nbconvert_exporter": "python",
   "pygments_lexer": "ipython3",
   "version": "3.10.9"
  }
 },
 "nbformat": 4,
 "nbformat_minor": 5
}
